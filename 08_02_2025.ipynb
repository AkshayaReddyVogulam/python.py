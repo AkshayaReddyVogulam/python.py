{
  "nbformat": 4,
  "nbformat_minor": 0,
  "metadata": {
    "colab": {
      "provenance": []
    },
    "kernelspec": {
      "name": "python3",
      "display_name": "Python 3"
    },
    "language_info": {
      "name": "python"
    }
  },
  "cells": [
    {
      "cell_type": "code",
      "execution_count": 3,
      "metadata": {
        "colab": {
          "base_uri": "https://localhost:8080/"
        },
        "id": "BckalnKbAdxi",
        "outputId": "7daa6248-ee43-4bbd-e37e-4fe8b13d65b1"
      },
      "outputs": [
        {
          "output_type": "stream",
          "name": "stdout",
          "text": [
            "I am going to mlr\rto learn the nlp\n"
          ]
        }
      ],
      "source": [
        "print(\"I am going to mlr\\rto learn the nlp\")"
      ]
    },
    {
      "cell_type": "code",
      "source": [
        "print(\"i am going to \\nmlr college\\nto learn the nlp\")"
      ],
      "metadata": {
        "colab": {
          "base_uri": "https://localhost:8080/"
        },
        "id": "J3ZHPNjmArE8",
        "outputId": "cef05f12-9cf4-4c4d-acb4-68cb2ad4748d"
      },
      "execution_count": 2,
      "outputs": [
        {
          "output_type": "stream",
          "name": "stdout",
          "text": [
            "i am going to \n",
            "mlr college\n",
            "to learn the nlp\n"
          ]
        }
      ]
    },
    {
      "cell_type": "code",
      "source": [
        "sent=\"James bond 007 wants to learn NLP\""
      ],
      "metadata": {
        "id": "gSwCUsnjA2Aq"
      },
      "execution_count": 5,
      "outputs": []
    },
    {
      "cell_type": "code",
      "source": [
        "import re"
      ],
      "metadata": {
        "id": "ZPya8X7ICpdf"
      },
      "execution_count": 6,
      "outputs": []
    },
    {
      "cell_type": "code",
      "source": [
        "import re\n",
        "pattern=r'\\d+'\n",
        "string=\"007 james bond wants to learn the python\"\n",
        "matching=re.match(pattern,string)\n",
        "matching.group()"
      ],
      "metadata": {
        "colab": {
          "base_uri": "https://localhost:8080/",
          "height": 35
        },
        "id": "7TkRba_MCwWA",
        "outputId": "a68858e3-db8a-4915-b27a-9a2169320273"
      },
      "execution_count": 8,
      "outputs": [
        {
          "output_type": "execute_result",
          "data": {
            "text/plain": [
              "'007'"
            ],
            "application/vnd.google.colaboratory.intrinsic+json": {
              "type": "string"
            }
          },
          "metadata": {},
          "execution_count": 8
        }
      ]
    },
    {
      "cell_type": "code",
      "source": [
        "import re\n",
        "pattern=r'\\d+'\n",
        "string=\"james bond 007 wants 008 to learn23 the python\"\n",
        "matching=re.findall(pattern,string)\n",
        "matching\n"
      ],
      "metadata": {
        "colab": {
          "base_uri": "https://localhost:8080/"
        },
        "id": "860bI0VyDlZw",
        "outputId": "1cd9507f-f876-407f-ce07-a0f6067df430"
      },
      "execution_count": 10,
      "outputs": [
        {
          "output_type": "execute_result",
          "data": {
            "text/plain": [
              "['007', '008', '23']"
            ]
          },
          "metadata": {},
          "execution_count": 10
        }
      ]
    },
    {
      "cell_type": "code",
      "source": [
        "import re\n",
        "pattern=r'\\d'\n",
        "string=\"james bond 007 wants 008 to learn23 the python\"\n",
        "matching=re.sub(pattern,\"*\",string)\n",
        "matching"
      ],
      "metadata": {
        "colab": {
          "base_uri": "https://localhost:8080/",
          "height": 35
        },
        "id": "ACir2VWsFYD2",
        "outputId": "dff8fd32-a65a-4d87-c236-cb06e41a31b5"
      },
      "execution_count": 11,
      "outputs": [
        {
          "output_type": "execute_result",
          "data": {
            "text/plain": [
              "'james bond *** wants *** to learn** the python'"
            ],
            "application/vnd.google.colaboratory.intrinsic+json": {
              "type": "string"
            }
          },
          "metadata": {},
          "execution_count": 11
        }
      ]
    },
    {
      "cell_type": "code",
      "source": [
        "# Test csae\n",
        "text= \"\"\"\n",
        "Hello world!\n",
        "\"\"\""
      ],
      "metadata": {
        "id": "A1RNeT8_JaAB"
      },
      "execution_count": 12,
      "outputs": []
    },
    {
      "cell_type": "code",
      "source": [
        "import re\n",
        "text = \"Your text containing email addresses like example@example.com\"  # Define the text to search within\n",
        "emails = re.findall(r'[a-zA-Z0-9._%+-]+@[a-zA-Z0-9.-]+\\.[a-zA-Z{2}]', text) # Pass the text variable to findall\n",
        "print(emails)"
      ],
      "metadata": {
        "colab": {
          "base_uri": "https://localhost:8080/"
        },
        "id": "dHw1_auMIAfL",
        "outputId": "b9a30288-84d6-4cc1-b15e-f07a9945dc79"
      },
      "execution_count": 14,
      "outputs": [
        {
          "output_type": "stream",
          "name": "stdout",
          "text": [
            "['example@example.c']\n"
          ]
        }
      ]
    }
  ]
}