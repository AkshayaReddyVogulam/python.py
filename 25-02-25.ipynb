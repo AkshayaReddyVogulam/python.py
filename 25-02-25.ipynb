{
 "cells": [
  {
   "cell_type": "code",
   "execution_count": 3,
   "id": "99f11033-d3c6-4717-8205-ed413d7b4249",
   "metadata": {},
   "outputs": [],
   "source": [
    "from nltk.stem import PorterStemmer"
   ]
  },
  {
   "cell_type": "code",
   "execution_count": 9,
   "id": "418ac77a-3242-4d13-8202-9d9442b59e06",
   "metadata": {},
   "outputs": [],
   "source": [
    "words = [\"apple\", \"banana\", \"mango\", \"orange\"]\n"
   ]
  },
  {
   "cell_type": "code",
   "execution_count": 4,
   "id": "69ad81a5-d404-468c-9361-65c6ea1010e2",
   "metadata": {},
   "outputs": [],
   "source": [
    "stemming=PorterStemmer()"
   ]
  },
  {
   "cell_type": "code",
   "execution_count": 10,
   "id": "e640094a-4d98-4458-9935-0bf1f0913f2f",
   "metadata": {},
   "outputs": [
    {
     "name": "stdout",
     "output_type": "stream",
     "text": [
      "apple ----> appl\n",
      "banana ----> banana\n",
      "mango ----> mango\n",
      "orange ----> orang\n"
     ]
    }
   ],
   "source": [
    "for word in words:\n",
    "    print(word + \" ----> \" + stemming.stem(word))"
   ]
  },
  {
   "cell_type": "code",
   "execution_count": 11,
   "id": "f24113db-3a8e-42de-b873-f4d98dbe2e23",
   "metadata": {},
   "outputs": [
    {
     "data": {
      "text/plain": [
       "'engin'"
      ]
     },
     "execution_count": 11,
     "metadata": {},
     "output_type": "execute_result"
    }
   ],
   "source": [
    "stemming.stem('Engineering')"
   ]
  },
  {
   "cell_type": "code",
   "execution_count": 12,
   "id": "ee63dec1-9082-416d-a226-f32184d417ac",
   "metadata": {},
   "outputs": [
    {
     "data": {
      "text/plain": [
       "'sit'"
      ]
     },
     "execution_count": 12,
     "metadata": {},
     "output_type": "execute_result"
    }
   ],
   "source": [
    "stemming.stem(\"sitting\")"
   ]
  },
  {
   "cell_type": "code",
   "execution_count": 13,
   "id": "d792385b-d894-4e66-93fd-9903677959ba",
   "metadata": {},
   "outputs": [],
   "source": [
    "from nltk.stem import RegexpStemmer"
   ]
  },
  {
   "cell_type": "code",
   "execution_count": 14,
   "id": "94c85a39-b601-4af4-9678-89759cc2fba6",
   "metadata": {},
   "outputs": [],
   "source": [
    "reg_stemmer=RegexpStemmer('ing$|s$|e$|able$', min=4)"
   ]
  },
  {
   "cell_type": "code",
   "execution_count": 15,
   "id": "b3c6a8cd-39a9-4b82-8778-8dcb90c115ba",
   "metadata": {},
   "outputs": [
    {
     "data": {
      "text/plain": [
       "'eat'"
      ]
     },
     "execution_count": 15,
     "metadata": {},
     "output_type": "execute_result"
    }
   ],
   "source": [
    "reg_stemmer.stem('eating')"
   ]
  },
  {
   "cell_type": "code",
   "execution_count": 16,
   "id": "da6e4e08-bbbe-4b66-9727-9297122929d0",
   "metadata": {},
   "outputs": [
    {
     "data": {
      "text/plain": [
       "'ingeat'"
      ]
     },
     "execution_count": 16,
     "metadata": {},
     "output_type": "execute_result"
    }
   ],
   "source": [
    "reg_stemmer.stem('ingeating')"
   ]
  },
  {
   "cell_type": "code",
   "execution_count": 17,
   "id": "a72dfc32-85a5-47d5-9fb6-abd7889817a9",
   "metadata": {},
   "outputs": [
    {
     "data": {
      "text/plain": [
       "'Cap'"
      ]
     },
     "execution_count": 17,
     "metadata": {},
     "output_type": "execute_result"
    }
   ],
   "source": [
    "reg_stemmer.stem(\"Capable\")"
   ]
  },
  {
   "cell_type": "code",
   "execution_count": 18,
   "id": "c71359f9-557e-4edd-9fdf-3d102ff5fd2f",
   "metadata": {},
   "outputs": [],
   "source": [
    "reg_stemmer=RegexpStemmer('ing$|s$|e$|able$', min=10)"
   ]
  },
  {
   "cell_type": "code",
   "execution_count": 19,
   "id": "f5475e28-171f-4a2e-ab26-65219db3b417",
   "metadata": {},
   "outputs": [
    {
     "data": {
      "text/plain": [
       "'eating'"
      ]
     },
     "execution_count": 19,
     "metadata": {},
     "output_type": "execute_result"
    }
   ],
   "source": [
    "reg_stemmer.stem('eating')"
   ]
  },
  {
   "cell_type": "code",
   "execution_count": 20,
   "id": "d58496d0-ca4b-4311-afd0-243eaee807dc",
   "metadata": {},
   "outputs": [
    {
     "data": {
      "text/plain": [
       "'Capable'"
      ]
     },
     "execution_count": 20,
     "metadata": {},
     "output_type": "execute_result"
    }
   ],
   "source": [
    "reg_stemmer.stem(\"Capable\")"
   ]
  },
  {
   "cell_type": "code",
   "execution_count": 21,
   "id": "a730557c-93d3-48bc-bbbc-1ab1b8279310",
   "metadata": {},
   "outputs": [
    {
     "data": {
      "text/plain": [
       "'ingeating'"
      ]
     },
     "execution_count": 21,
     "metadata": {},
     "output_type": "execute_result"
    }
   ],
   "source": [
    "reg_stemmer.stem('ingeating')"
   ]
  },
  {
   "cell_type": "code",
   "execution_count": 22,
   "id": "f679ca26-3561-49df-b8f3-531fc1ca0504",
   "metadata": {},
   "outputs": [],
   "source": [
    "from nltk.stem import SnowballStemmer"
   ]
  },
  {
   "cell_type": "code",
   "execution_count": 23,
   "id": "118764c2-06ab-4618-950c-6f95eb34ea57",
   "metadata": {},
   "outputs": [],
   "source": [
    "snowballStemmer=SnowballStemmer('english')"
   ]
  },
  {
   "cell_type": "code",
   "execution_count": 24,
   "id": "d3ae5feb-0c58-48e1-96e1-cdfadced912c",
   "metadata": {},
   "outputs": [
    {
     "data": {
      "text/plain": [
       "('fairli', 'sportingli')"
      ]
     },
     "execution_count": 24,
     "metadata": {},
     "output_type": "execute_result"
    }
   ],
   "source": [
    "stemming.stem(\"fairly\"),stemming.stem(\"Sportingly\")"
   ]
  },
  {
   "cell_type": "code",
   "execution_count": 26,
   "id": "9fe54c30-2833-4f98-9855-6816bf9684ad",
   "metadata": {},
   "outputs": [],
   "source": [
    "from nltk.stem import WordNetLemmatizer"
   ]
  },
  {
   "cell_type": "code",
   "execution_count": 27,
   "id": "4e933fc5-0c26-4d80-b9cf-b4ce7efb1787",
   "metadata": {},
   "outputs": [],
   "source": [
    "lemmatizer=WordNetLemmatizer()"
   ]
  },
  {
   "cell_type": "code",
   "execution_count": null,
   "id": "efd7864e-b867-46e3-88af-0b4f99848b39",
   "metadata": {},
   "outputs": [],
   "source": [
    "lemmatizer=WordNetLemmatizer(\"going\")"
   ]
  },
  {
   "cell_type": "code",
   "execution_count": 29,
   "id": "798ff512-2108-43d4-9f49-869a9f11733f",
   "metadata": {},
   "outputs": [
    {
     "data": {
      "text/plain": [
       "'go'"
      ]
     },
     "execution_count": 29,
     "metadata": {},
     "output_type": "execute_result"
    }
   ],
   "source": [
    "'''\n",
    "Pos Noun-n\n",
    "verb-v\n",
    "adjective-a\n",
    "adverb-r\n",
    "'''\n",
    "lemmatizer.lemmatize(\"going\",pos='v')"
   ]
  },
  {
   "cell_type": "code",
   "execution_count": null,
   "id": "2719c5a9-906e-460c-baa5-f7c8586211d6",
   "metadata": {},
   "outputs": [],
   "source": []
  }
 ],
 "metadata": {
  "kernelspec": {
   "display_name": "Python 3 (ipykernel)",
   "language": "python",
   "name": "python3"
  },
  "language_info": {
   "codemirror_mode": {
    "name": "ipython",
    "version": 3
   },
   "file_extension": ".py",
   "mimetype": "text/x-python",
   "name": "python",
   "nbconvert_exporter": "python",
   "pygments_lexer": "ipython3",
   "version": "3.12.7"
  }
 },
 "nbformat": 4,
 "nbformat_minor": 5
}
