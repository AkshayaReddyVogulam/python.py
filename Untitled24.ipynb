{
 "cells": [
  {
   "cell_type": "code",
   "execution_count": 1,
   "id": "ad708e8e-8126-4981-ab33-91432f38d339",
   "metadata": {},
   "outputs": [],
   "source": [
    "#!pip install BeautifulSoup4"
   ]
  },
  {
   "cell_type": "code",
   "execution_count": 2,
   "id": "7b93da7f-4068-4e5c-a0f6-c92062a05b65",
   "metadata": {},
   "outputs": [],
   "source": [
    "#!pip install lxml"
   ]
  },
  {
   "cell_type": "code",
   "execution_count": 3,
   "id": "70cacf65-40c4-49e8-8d30-c86724227bb4",
   "metadata": {},
   "outputs": [],
   "source": [
    "#!pip install html5lib"
   ]
  },
  {
   "cell_type": "code",
   "execution_count": 4,
   "id": "0c3e18d8-d878-4184-a142-ae930b909600",
   "metadata": {},
   "outputs": [],
   "source": [
    "import requests\n",
    "import webbrowser\n",
    "\n",
    "import re\n",
    "\n",
    "from bs4 import BeautifulSoup\n",
    "\n",
    "from pprint import pprint"
   ]
  },
  {
   "cell_type": "code",
   "execution_count": 5,
   "id": "d60a92a6-7562-482a-91dc-a8aebc26faab",
   "metadata": {},
   "outputs": [],
   "source": [
    "very_simple_html = \"\"\"\n",
    "\n",
    "<html>\n",
    "    <head>\n",
    "        <title>The Dormouse's story</title>\n",
    "    </head>\n",
    "<body>\n",
    "<p class=\"title\">\n",
    "    <b>The Dormouse's story</b>\n",
    "</p>\n",
    "\n",
    "<p class=\"story\">\n",
    "Once upon a time there were three little sisters; and their names were:\n",
    "\n",
    "    <a href=\"http://example.com/elsie\" class=\"sister\" id=\"link1\">Elsie</a>,\n",
    "    <a href=\"http://example.com/lacie\" class=\"sister\" id=\"link2\">Lacie</a> and\n",
    "    <a href=\"http://example.com/tillie\" class=\"sister\" id=\"link3\">Tillie</a>;\n",
    "\n",
    "and they lived at the bottom of a well.\n",
    "</p>\n",
    "\n",
    "<p class=\"story\">The story continues</p>\n",
    "</body>\n",
    "</html>\n",
    "\"\"\""
   ]
  },
  {
   "cell_type": "code",
   "execution_count": 6,
   "id": "6747243d-3679-4baf-ba92-b314a778dcdb",
   "metadata": {},
   "outputs": [
    {
     "name": "stdout",
     "output_type": "stream",
     "text": [
      "('\\n'\n",
      " '\\n'\n",
      " '<html>\\n'\n",
      " '    <head>\\n'\n",
      " \"        <title>The Dormouse's story</title>\\n\"\n",
      " '    </head>\\n'\n",
      " '<body>\\n'\n",
      " '<p class=\"title\">\\n'\n",
      " \"    <b>The Dormouse's story</b>\\n\"\n",
      " '</p>\\n'\n",
      " '\\n'\n",
      " '<p class=\"story\">\\n'\n",
      " 'Once upon a time there were three little sisters; and their names were:\\n'\n",
      " '\\n'\n",
      " '    <a href=\"http://example.com/elsie\" class=\"sister\" id=\"link1\">Elsie</a>,\\n'\n",
      " '    <a href=\"http://example.com/lacie\" class=\"sister\" id=\"link2\">Lacie</a> '\n",
      " 'and\\n'\n",
      " '    <a href=\"http://example.com/tillie\" class=\"sister\" '\n",
      " 'id=\"link3\">Tillie</a>;\\n'\n",
      " '\\n'\n",
      " 'and they lived at the bottom of a well.\\n'\n",
      " '</p>\\n'\n",
      " '\\n'\n",
      " '<p class=\"story\">The story continues</p>\\n'\n",
      " '</body>\\n'\n",
      " '</html>\\n')\n"
     ]
    }
   ],
   "source": [
    "pprint(very_simple_html)"
   ]
  },
  {
   "cell_type": "code",
   "execution_count": 9,
   "id": "f0e12070-afc7-40d4-8f5e-8a9f9703c688",
   "metadata": {},
   "outputs": [
    {
     "data": {
      "text/plain": [
       "<html>\n",
       "<head>\n",
       "<title>The Dormouse's story</title>\n",
       "</head>\n",
       "<body>\n",
       "<p class=\"title\">\n",
       "<b>The Dormouse's story</b>\n",
       "</p>\n",
       "<p class=\"story\">\n",
       "Once upon a time there were three little sisters; and their names were:\n",
       "\n",
       "    <a class=\"sister\" href=\"http://example.com/elsie\" id=\"link1\">Elsie</a>,\n",
       "    <a class=\"sister\" href=\"http://example.com/lacie\" id=\"link2\">Lacie</a> and\n",
       "    <a class=\"sister\" href=\"http://example.com/tillie\" id=\"link3\">Tillie</a>;\n",
       "\n",
       "and they lived at the bottom of a well.\n",
       "</p>\n",
       "<p class=\"story\">The story continues</p>\n",
       "</body>\n",
       "</html>"
      ]
     },
     "execution_count": 9,
     "metadata": {},
     "output_type": "execute_result"
    }
   ],
   "source": [
    "soup = BeautifulSoup(very_simple_html)\n",
    "soup"
   ]
  },
  {
   "cell_type": "code",
   "execution_count": 10,
   "id": "fe6e6510-52de-4087-9e5f-8fff19b1e196",
   "metadata": {},
   "outputs": [
    {
     "name": "stdout",
     "output_type": "stream",
     "text": [
      "<html>\n",
      " <head>\n",
      "  <title>\n",
      "   The Dormouse's story\n",
      "  </title>\n",
      " </head>\n",
      " <body>\n",
      "  <p class=\"title\">\n",
      "   <b>\n",
      "    The Dormouse's story\n",
      "   </b>\n",
      "  </p>\n",
      "  <p class=\"story\">\n",
      "   Once upon a time there were three little sisters; and their names were:\n",
      "   <a class=\"sister\" href=\"http://example.com/elsie\" id=\"link1\">\n",
      "    Elsie\n",
      "   </a>\n",
      "   ,\n",
      "   <a class=\"sister\" href=\"http://example.com/lacie\" id=\"link2\">\n",
      "    Lacie\n",
      "   </a>\n",
      "   and\n",
      "   <a class=\"sister\" href=\"http://example.com/tillie\" id=\"link3\">\n",
      "    Tillie\n",
      "   </a>\n",
      "   ;\n",
      "\n",
      "and they lived at the bottom of a well.\n",
      "  </p>\n",
      "  <p class=\"story\">\n",
      "   The story continues\n",
      "  </p>\n",
      " </body>\n",
      "</html>\n",
      "\n"
     ]
    }
   ],
   "source": [
    "print(soup.prettify())"
   ]
  },
  {
   "cell_type": "code",
   "execution_count": 11,
   "id": "dc5d87a7-c836-4c66-a380-c1d972f21ff9",
   "metadata": {},
   "outputs": [
    {
     "data": {
      "text/plain": [
       "<html>\n",
       "<head>\n",
       "<title>The Dormouse's story</title>\n",
       "</head>\n",
       "<body>\n",
       "<p class=\"title\">\n",
       "<b>The Dormouse's story</b>\n",
       "</p>\n",
       "<p class=\"story\">\n",
       "Once upon a time there were three little sisters; and their names were:\n",
       "\n",
       "    <a class=\"sister\" href=\"http://example.com/elsie\" id=\"link1\">Elsie</a>,\n",
       "    <a class=\"sister\" href=\"http://example.com/lacie\" id=\"link2\">Lacie</a> and\n",
       "    <a class=\"sister\" href=\"http://example.com/tillie\" id=\"link3\">Tillie</a>;\n",
       "\n",
       "and they lived at the bottom of a well.\n",
       "</p>\n",
       "<p class=\"story\">The story continues</p>\n",
       "</body>\n",
       "</html>"
      ]
     },
     "execution_count": 11,
     "metadata": {},
     "output_type": "execute_result"
    }
   ],
   "source": [
    "soup.html"
   ]
  },
  {
   "cell_type": "code",
   "execution_count": 12,
   "id": "6eca8ec1-3f08-42f7-80c9-8811fb071978",
   "metadata": {},
   "outputs": [
    {
     "data": {
      "text/plain": [
       "<head>\n",
       "<title>The Dormouse's story</title>\n",
       "</head>"
      ]
     },
     "execution_count": 12,
     "metadata": {},
     "output_type": "execute_result"
    }
   ],
   "source": [
    "soup.head"
   ]
  },
  {
   "cell_type": "code",
   "execution_count": 13,
   "id": "c400d78f-f77c-47eb-9fac-5ee5aa2526d6",
   "metadata": {},
   "outputs": [
    {
     "data": {
      "text/plain": [
       "<title>The Dormouse's story</title>"
      ]
     },
     "execution_count": 13,
     "metadata": {},
     "output_type": "execute_result"
    }
   ],
   "source": [
    "soup.title"
   ]
  },
  {
   "cell_type": "code",
   "execution_count": 14,
   "id": "52ab0138-7798-4655-a19f-bde48299a377",
   "metadata": {},
   "outputs": [
    {
     "data": {
      "text/plain": [
       "\"The Dormouse's story\""
      ]
     },
     "execution_count": 14,
     "metadata": {},
     "output_type": "execute_result"
    }
   ],
   "source": [
    "soup.title.text"
   ]
  },
  {
   "cell_type": "code",
   "execution_count": 15,
   "id": "611238f4-3899-4a98-a3cf-ce44a0508bb3",
   "metadata": {},
   "outputs": [
    {
     "data": {
      "text/plain": [
       "str"
      ]
     },
     "execution_count": 15,
     "metadata": {},
     "output_type": "execute_result"
    }
   ],
   "source": [
    "type(soup.title.text)"
   ]
  },
  {
   "cell_type": "code",
   "execution_count": 16,
   "id": "8a435f2f-08cf-4443-8e3a-218e3d811d56",
   "metadata": {},
   "outputs": [
    {
     "data": {
      "text/plain": [
       "<body>\n",
       "<p class=\"title\">\n",
       "<b>The Dormouse's story</b>\n",
       "</p>\n",
       "<p class=\"story\">\n",
       "Once upon a time there were three little sisters; and their names were:\n",
       "\n",
       "    <a class=\"sister\" href=\"http://example.com/elsie\" id=\"link1\">Elsie</a>,\n",
       "    <a class=\"sister\" href=\"http://example.com/lacie\" id=\"link2\">Lacie</a> and\n",
       "    <a class=\"sister\" href=\"http://example.com/tillie\" id=\"link3\">Tillie</a>;\n",
       "\n",
       "and they lived at the bottom of a well.\n",
       "</p>\n",
       "<p class=\"story\">The story continues</p>\n",
       "</body>"
      ]
     },
     "execution_count": 16,
     "metadata": {},
     "output_type": "execute_result"
    }
   ],
   "source": [
    "soup.body"
   ]
  },
  {
   "cell_type": "code",
   "execution_count": 17,
   "id": "43a1c26c-0831-463b-a129-70902e3a8fd2",
   "metadata": {},
   "outputs": [
    {
     "data": {
      "text/plain": [
       "<html>\n",
       "<head>\n",
       "<title>The Dormouse's story</title>\n",
       "</head>\n",
       "<body>\n",
       "<p class=\"title\">\n",
       "<b>The Dormouse's story</b>\n",
       "</p>\n",
       "<p class=\"story\">\n",
       "Once upon a time there were three little sisters; and their names were:\n",
       "\n",
       "    <a class=\"sister\" href=\"http://example.com/elsie\" id=\"link1\">Elsie</a>,\n",
       "    <a class=\"sister\" href=\"http://example.com/lacie\" id=\"link2\">Lacie</a> and\n",
       "    <a class=\"sister\" href=\"http://example.com/tillie\" id=\"link3\">Tillie</a>;\n",
       "\n",
       "and they lived at the bottom of a well.\n",
       "</p>\n",
       "<p class=\"story\">The story continues</p>\n",
       "</body>\n",
       "</html>"
      ]
     },
     "execution_count": 17,
     "metadata": {},
     "output_type": "execute_result"
    }
   ],
   "source": [
    "soup\n"
   ]
  },
  {
   "cell_type": "code",
   "execution_count": 18,
   "id": "562949bb-1ce4-4030-be80-242f7e5e45b6",
   "metadata": {},
   "outputs": [
    {
     "data": {
      "text/plain": [
       "<p class=\"title\">\n",
       "<b>The Dormouse's story</b>\n",
       "</p>"
      ]
     },
     "execution_count": 18,
     "metadata": {},
     "output_type": "execute_result"
    }
   ],
   "source": [
    "soup.body.p"
   ]
  },
  {
   "cell_type": "code",
   "execution_count": 19,
   "id": "d917dd1f-4c45-4280-aa9f-83820b7a27ed",
   "metadata": {},
   "outputs": [
    {
     "data": {
      "text/plain": [
       "<p class=\"title\">\n",
       "<b>The Dormouse's story</b>\n",
       "</p>"
      ]
     },
     "execution_count": 19,
     "metadata": {},
     "output_type": "execute_result"
    }
   ],
   "source": [
    "soup.p"
   ]
  },
  {
   "cell_type": "code",
   "execution_count": 20,
   "id": "fe9d8243-ad37-4d2a-b918-3bcfd0907684",
   "metadata": {},
   "outputs": [
    {
     "data": {
      "text/plain": [
       "<b>The Dormouse's story</b>"
      ]
     },
     "execution_count": 20,
     "metadata": {},
     "output_type": "execute_result"
    }
   ],
   "source": [
    "soup.b"
   ]
  },
  {
   "cell_type": "code",
   "execution_count": 21,
   "id": "0094ec7a-90dc-40ae-b756-786cddcd7fde",
   "metadata": {},
   "outputs": [
    {
     "data": {
      "text/plain": [
       "<a class=\"sister\" href=\"http://example.com/elsie\" id=\"link1\">Elsie</a>"
      ]
     },
     "execution_count": 21,
     "metadata": {},
     "output_type": "execute_result"
    }
   ],
   "source": [
    "soup.a"
   ]
  },
  {
   "cell_type": "code",
   "execution_count": 22,
   "id": "0264741b-4b72-41c7-8ef7-369d010ed93d",
   "metadata": {},
   "outputs": [
    {
     "name": "stdout",
     "output_type": "stream",
     "text": [
      "<html>\n",
      " <head>\n",
      "  <title>\n",
      "   The Dormouse's story\n",
      "  </title>\n",
      " </head>\n",
      " <body>\n",
      "  <p class=\"title\">\n",
      "   <b>\n",
      "    The Dormouse's story\n",
      "   </b>\n",
      "  </p>\n",
      "  <p class=\"story\">\n",
      "   Once upon a time there were three little sisters; and their names were:\n",
      "   <a class=\"sister\" href=\"http://example.com/elsie\" id=\"link1\">\n",
      "    Elsie\n",
      "   </a>\n",
      "   ,\n",
      "   <a class=\"sister\" href=\"http://example.com/lacie\" id=\"link2\">\n",
      "    Lacie\n",
      "   </a>\n",
      "   and\n",
      "   <a class=\"sister\" href=\"http://example.com/tillie\" id=\"link3\">\n",
      "    Tillie\n",
      "   </a>\n",
      "   ;\n",
      "\n",
      "and they lived at the bottom of a well.\n",
      "  </p>\n",
      "  <p class=\"story\">\n",
      "   The story continues\n",
      "  </p>\n",
      " </body>\n",
      "</html>\n",
      "\n"
     ]
    }
   ],
   "source": [
    "print(soup.prettify())"
   ]
  },
  {
   "cell_type": "code",
   "execution_count": 23,
   "id": "e8656a6b-38ca-4742-ad27-c663c629baa6",
   "metadata": {},
   "outputs": [
    {
     "data": {
      "text/plain": [
       "<p class=\"story\">\n",
       "Once upon a time there were three little sisters; and their names were:\n",
       "\n",
       "    <a class=\"sister\" href=\"http://example.com/elsie\" id=\"link1\">Elsie</a>,\n",
       "    <a class=\"sister\" href=\"http://example.com/lacie\" id=\"link2\">Lacie</a> and\n",
       "    <a class=\"sister\" href=\"http://example.com/tillie\" id=\"link3\">Tillie</a>;\n",
       "\n",
       "and they lived at the bottom of a well.\n",
       "</p>"
      ]
     },
     "execution_count": 23,
     "metadata": {},
     "output_type": "execute_result"
    }
   ],
   "source": [
    "soup.a.parent"
   ]
  },
  {
   "cell_type": "code",
   "execution_count": 24,
   "id": "5bcc43f8-7525-4cb2-9b1d-0ffa429b1930",
   "metadata": {},
   "outputs": [
    {
     "data": {
      "text/plain": [
       "<html>\n",
       "<head>\n",
       "<title>The Dormouse's story</title>\n",
       "</head>\n",
       "<body>\n",
       "<p class=\"title\">\n",
       "<b>The Dormouse's story</b>\n",
       "</p>\n",
       "<p class=\"story\">\n",
       "Once upon a time there were three little sisters; and their names were:\n",
       "\n",
       "    <a class=\"sister\" href=\"http://example.com/elsie\" id=\"link1\">Elsie</a>,\n",
       "    <a class=\"sister\" href=\"http://example.com/lacie\" id=\"link2\">Lacie</a> and\n",
       "    <a class=\"sister\" href=\"http://example.com/tillie\" id=\"link3\">Tillie</a>;\n",
       "\n",
       "and they lived at the bottom of a well.\n",
       "</p>\n",
       "<p class=\"story\">The story continues</p>\n",
       "</body>\n",
       "</html>"
      ]
     },
     "execution_count": 24,
     "metadata": {},
     "output_type": "execute_result"
    }
   ],
   "source": [
    "soup.a.parent.parent.parent"
   ]
  },
  {
   "cell_type": "code",
   "execution_count": 27,
   "id": "480b4ab9-73b6-4b7f-b77c-96b1500bb546",
   "metadata": {},
   "outputs": [],
   "source": [
    "## TODO: While recording please show the html page as well as the html code"
   ]
  },
  {
   "cell_type": "code",
   "execution_count": 29,
   "id": "c484f8e9-da3d-42d9-8543-449fba62c344",
   "metadata": {},
   "outputs": [],
   "source": [
    "images = soup.find_all('img')\n",
    "for img in images:\n",
    "    print(img.get('src'))\n"
   ]
  },
  {
   "cell_type": "code",
   "execution_count": 30,
   "id": "ba9dab93-28c1-4773-a2f2-48eba9143889",
   "metadata": {},
   "outputs": [
    {
     "name": "stdout",
     "output_type": "stream",
     "text": [
      "<html>\n",
      " <head>\n",
      "  <title>\n",
      "   The Dormouse's story\n",
      "  </title>\n",
      " </head>\n",
      " <body>\n",
      "  <p class=\"title\">\n",
      "   <b>\n",
      "    The Dormouse's story\n",
      "   </b>\n",
      "  </p>\n",
      "  <p class=\"story\">\n",
      "   Once upon a time there were three little sisters; and their names were:\n",
      "   <a class=\"sister\" href=\"http://example.com/elsie\" id=\"link1\">\n",
      "    Elsie\n",
      "   </a>\n",
      "   ,\n",
      "   <a class=\"sister\" href=\"http://example.com/lacie\" id=\"link2\">\n",
      "    Lacie\n",
      "   </a>\n",
      "   and\n",
      "   <a class=\"sister\" href=\"http://example.com/tillie\" id=\"link3\">\n",
      "    Tillie\n",
      "   </a>\n",
      "   ;\n",
      "\n",
      "and they lived at the bottom of a well.\n",
      "  </p>\n",
      "  <p class=\"story\">\n",
      "   The story continues\n",
      "  </p>\n",
      " </body>\n",
      "</html>\n",
      "\n"
     ]
    }
   ],
   "source": [
    "print(soup.prettify())"
   ]
  },
  {
   "cell_type": "code",
   "execution_count": null,
   "id": "16128452-6f53-4acf-85df-8a28da7538c6",
   "metadata": {},
   "outputs": [],
   "source": []
  }
 ],
 "metadata": {
  "kernelspec": {
   "display_name": "Python 3 (ipykernel)",
   "language": "python",
   "name": "python3"
  },
  "language_info": {
   "codemirror_mode": {
    "name": "ipython",
    "version": 3
   },
   "file_extension": ".py",
   "mimetype": "text/x-python",
   "name": "python",
   "nbconvert_exporter": "python",
   "pygments_lexer": "ipython3",
   "version": "3.12.7"
  }
 },
 "nbformat": 4,
 "nbformat_minor": 5
}
